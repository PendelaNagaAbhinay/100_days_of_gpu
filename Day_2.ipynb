{
  "nbformat": 4,
  "nbformat_minor": 0,
  "metadata": {
    "colab": {
      "provenance": [],
      "gpuType": "T4",
      "authorship_tag": "ABX9TyPZ4iP6gSslVawhkkb4boSj",
      "include_colab_link": true
    },
    "kernelspec": {
      "name": "python3",
      "display_name": "Python 3"
    },
    "language_info": {
      "name": "python"
    },
    "accelerator": "GPU"
  },
  "cells": [
    {
      "cell_type": "markdown",
      "metadata": {
        "id": "view-in-github",
        "colab_type": "text"
      },
      "source": [
        "<a href=\"https://colab.research.google.com/github/PendelaNagaAbhinay/100_days_of_gpu/blob/main/Day_2.ipynb\" target=\"_parent\"><img src=\"https://colab.research.google.com/assets/colab-badge.svg\" alt=\"Open In Colab\"/></a>"
      ]
    },
    {
      "cell_type": "code",
      "execution_count": 3,
      "metadata": {
        "colab": {
          "base_uri": "https://localhost:8080/"
        },
        "id": "OJ9tQnz07LZY",
        "outputId": "f26ec4b6-5ddc-457e-ff01-0969e63b202a"
      },
      "outputs": [
        {
          "output_type": "stream",
          "name": "stdout",
          "text": [
            "Writing MatrixAdd.cu\n"
          ]
        }
      ],
      "source": [
        "%%writefile MatrixAdd.cu\n",
        "#include <iostream>\n",
        "__global__ void MatrixAdd_C(const float* A, const float* B, float* C, int N) {\n",
        "    int i = blockIdx.x * blockDim.x + threadIdx.x;\n",
        "\n",
        "    if (i < N)  {\n",
        "        for(int j=0;j<N;j++){\n",
        "\n",
        "          C[i*N+j] = A[i*N+j] + B[i*N+j];\n",
        "\n",
        "        }\n",
        "    return;\n",
        "    }\n",
        "}\n",
        "\n",
        "\n",
        "\n",
        "__global__ void MatrixAdd_B(const float* A, const float* B, float* C, int N) {\n",
        "    int i = blockIdx.x * blockDim.x + threadIdx.x;\n",
        "    int j = blockIdx.y * blockDim.y + threadIdx.y;\n",
        "    if ((i >= N) && (j >= N)) { return ; }\n",
        "\n",
        "    C[i*N+j] = A[i*N+j] + B[i*N+j];\n",
        "\n",
        "    }\n",
        "\n",
        "__global__ void MatrixAdd_D(const float* A, const float* B, float* C, int N) {\n",
        "    int j = blockIdx.y * blockDim.y + threadIdx.y;\n",
        "\n",
        "    if (j < N)  {\n",
        "        for(int i=0;i<N;i++){\n",
        "\n",
        "          C[i*N+j] = A[i*N+j] + B[i*N+j];\n",
        "\n",
        "        }\n",
        "\n",
        "    }\n",
        "\n",
        "}\n",
        "\n",
        "\n",
        "\n",
        "int main() {\n",
        "    const int N = 10;\n",
        "    float *A, *B, *C;\n",
        "\n",
        "    // initialize the input matrices\n",
        "    A = (float *)malloc( N*N* sizeof(float));\n",
        "    B = (float *)malloc(N*N* sizeof(float));\n",
        "    C = (float *)malloc(N*N * sizeof(float));\n",
        "\n",
        "\n",
        "    for (int i = 0; i < N; i++)\n",
        "    {\n",
        "        for (int j = 0; j < N; j++)\n",
        "        {\n",
        "            A[i * N + j] = 1.0f;\n",
        "            B[i * N + j] = 2.0f;\n",
        "            C[i * N + j] = 0.0f;\n",
        "        }\n",
        "    }\n",
        "\n",
        "    float *d_a, *d_b,*d_c;\n",
        "    cudaMalloc((void **)&d_a,N*N*sizeof(float));\n",
        "    cudaMalloc((void **)&d_b,N*N*sizeof(float));\n",
        "    cudaMalloc((void **)&d_c,N*N*sizeof(float));\n",
        "    cudaMemcpy(d_a,A,N*N*sizeof(float),cudaMemcpyHostToDevice);\n",
        "    cudaMemcpy(d_b,B,N*N*sizeof(float),cudaMemcpyHostToDevice);\n",
        "\n",
        "    dim3 dimBlock(32, 16);\n",
        "    dim3 dimGrid(ceil(N / 32.0f), ceil(N/ 16.0f));\n",
        "    MatrixAdd_B<<<dimGrid, dimBlock>>>(d_a, d_b, d_c,N);\n",
        "    cudaDeviceSynchronize();\n",
        "\n",
        "    cudaMemcpy(C,d_c,N*N*sizeof(float),cudaMemcpyDeviceToHost);\n",
        "    printf(\"C:\\n\");\n",
        "    for (int i = 0; i < N; i++) {\n",
        "        for (int j = 0; j < N; j++) {\n",
        "\n",
        "            printf(\"%.2f \",C[i * N + j]); // Prints each element with 2 decimal precision\n",
        "        }\n",
        "        printf(\"\\n\"); // Adds a newline after each row\n",
        "    }\n",
        "     printf(\"A:\\n\");\n",
        "    for (int i = 0; i < N; i++) {\n",
        "        for (int j = 0; j < N; j++) {\n",
        "\n",
        "            printf(\"%.2f \", A[i * N + j]); // Prints each element with 2 decimal precision\n",
        "        }\n",
        "        printf(\"\\n\"); // Adds a newline after each row\n",
        "    }\n",
        "     printf(\"B:\\n\");\n",
        "    for (int i = 0; i < N; i++) {\n",
        "        for (int j = 0; j < N; j++) {\n",
        "\n",
        "            printf(\"%.2f \", B[i * N + j]); // Prints each element with 2 decimal precision\n",
        "        }\n",
        "        printf(\"\\n\"); // Adds a newline after each row\n",
        "    }\n",
        "    cudaFree(d_a);\n",
        "    cudaFree(d_b);\n",
        "    cudaFree(d_c);\n",
        "\n",
        "}"
      ]
    },
    {
      "cell_type": "code",
      "source": [
        "# Compile with the specified architecture\n",
        "!nvcc MatrixAdd.cu -o MatrixAdd -gencode arch=compute_75,code=sm_75\n",
        "\n",
        "# Run the executable\n",
        "!./MatrixAdd"
      ],
      "metadata": {
        "colab": {
          "base_uri": "https://localhost:8080/"
        },
        "id": "wW5-t7TW7QsI",
        "outputId": "fd2dda85-3219-472a-da41-9bd332357d9d"
      },
      "execution_count": 4,
      "outputs": [
        {
          "output_type": "stream",
          "name": "stdout",
          "text": [
            "C:\n",
            "3.00 3.00 3.00 3.00 3.00 3.00 3.00 3.00 3.00 3.00 \n",
            "3.00 3.00 3.00 3.00 3.00 3.00 3.00 3.00 3.00 3.00 \n",
            "3.00 3.00 3.00 3.00 3.00 3.00 3.00 3.00 3.00 3.00 \n",
            "3.00 3.00 3.00 3.00 3.00 3.00 3.00 3.00 3.00 3.00 \n",
            "3.00 3.00 3.00 3.00 3.00 3.00 3.00 3.00 3.00 3.00 \n",
            "3.00 3.00 3.00 3.00 3.00 3.00 3.00 3.00 3.00 3.00 \n",
            "3.00 3.00 3.00 3.00 3.00 3.00 3.00 3.00 3.00 3.00 \n",
            "3.00 3.00 3.00 3.00 3.00 3.00 3.00 3.00 3.00 3.00 \n",
            "3.00 3.00 3.00 3.00 3.00 3.00 3.00 3.00 3.00 3.00 \n",
            "3.00 3.00 3.00 3.00 3.00 3.00 3.00 3.00 3.00 3.00 \n",
            "A:\n",
            "1.00 1.00 1.00 1.00 1.00 1.00 1.00 1.00 1.00 1.00 \n",
            "1.00 1.00 1.00 1.00 1.00 1.00 1.00 1.00 1.00 1.00 \n",
            "1.00 1.00 1.00 1.00 1.00 1.00 1.00 1.00 1.00 1.00 \n",
            "1.00 1.00 1.00 1.00 1.00 1.00 1.00 1.00 1.00 1.00 \n",
            "1.00 1.00 1.00 1.00 1.00 1.00 1.00 1.00 1.00 1.00 \n",
            "1.00 1.00 1.00 1.00 1.00 1.00 1.00 1.00 1.00 1.00 \n",
            "1.00 1.00 1.00 1.00 1.00 1.00 1.00 1.00 1.00 1.00 \n",
            "1.00 1.00 1.00 1.00 1.00 1.00 1.00 1.00 1.00 1.00 \n",
            "1.00 1.00 1.00 1.00 1.00 1.00 1.00 1.00 1.00 1.00 \n",
            "1.00 1.00 1.00 1.00 1.00 1.00 1.00 1.00 1.00 1.00 \n",
            "B:\n",
            "2.00 2.00 2.00 2.00 2.00 2.00 2.00 2.00 2.00 2.00 \n",
            "2.00 2.00 2.00 2.00 2.00 2.00 2.00 2.00 2.00 2.00 \n",
            "2.00 2.00 2.00 2.00 2.00 2.00 2.00 2.00 2.00 2.00 \n",
            "2.00 2.00 2.00 2.00 2.00 2.00 2.00 2.00 2.00 2.00 \n",
            "2.00 2.00 2.00 2.00 2.00 2.00 2.00 2.00 2.00 2.00 \n",
            "2.00 2.00 2.00 2.00 2.00 2.00 2.00 2.00 2.00 2.00 \n",
            "2.00 2.00 2.00 2.00 2.00 2.00 2.00 2.00 2.00 2.00 \n",
            "2.00 2.00 2.00 2.00 2.00 2.00 2.00 2.00 2.00 2.00 \n",
            "2.00 2.00 2.00 2.00 2.00 2.00 2.00 2.00 2.00 2.00 \n",
            "2.00 2.00 2.00 2.00 2.00 2.00 2.00 2.00 2.00 2.00 \n"
          ]
        }
      ]
    },
    {
      "cell_type": "code",
      "source": [],
      "metadata": {
        "id": "rBEoOWa57_nm"
      },
      "execution_count": null,
      "outputs": []
    }
  ]
}